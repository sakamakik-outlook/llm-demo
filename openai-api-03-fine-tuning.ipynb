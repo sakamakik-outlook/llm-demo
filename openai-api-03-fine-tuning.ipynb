{
 "cells": [
  {
   "cell_type": "markdown",
   "metadata": {},
   "source": [
    "[![Open In Colab](https://colab.research.google.com/assets/colab-badge.svg)](https://colab.research.google.com/github/sakamakik-outlook/llm-demo/blob/master/openai-api-03-fine-tuning.ipynb)"
   ]
  },
  {
   "cell_type": "markdown",
   "metadata": {},
   "source": [
    "\n",
    "\n",
    "\n",
    "## Fine-tuning\n",
    "Learn how to customize a model for your application.\n",
    "\n",
    " https://platform.openai.com/docs/guides/fine-tuning\n",
    "\n",
    "\n",
    "\n",
    "### Introduction\n",
    "Fine-tuning lets you get more out of the models available through the API by providing:\n",
    "\n",
    "- Higher quality results than prompting\n",
    "- Ability to train on more examples than can fit in a prompt\n",
    "- Token savings due to shorter prompts\n",
    "- Lower latency requests\n",
    "\n",
    "### When to use fine-tuning\n",
    "**<span style=\"color:red\">Fine-tuning GPT models can make them better for specific applications, but it requires a careful investment of time and effort. We recommend first attempting to get good results with prompt engineering, prompt chaining (breaking complex tasks into multiple prompts), and function calling.</span>**\n",
    "\n",
    "\n",
    "### At a high level, fine-tuning involves the following steps:\n",
    "\n",
    "- Prepare and upload training data\n",
    "- Train a new fine-tuned model\n",
    "- Use your fine-tuned model\n"
   ]
  },
  {
   "cell_type": "markdown",
   "metadata": {},
   "source": [
    "###  Prepare data\n",
    "Create a diverse set of demonstration conversations that are similar to the conversations you will ask the model to respond to. (Minimun 10)\n",
    "\n",
    "```\n",
    "{\n",
    "    \"messages\": [\n",
    "        {\"role\": \"system\", \"content\": \"Marv is a factual chatbot that is also sarcastic.\"}, \n",
    "        {\"role\": \"user\", \"content\": \"What's the tallest mountain in the world?\"}, \n",
    "        {\"role\": \"assistant\", \"content\": \"Mount Everest, where oxygen is overrated.\"}\n",
    "    ]\n",
    "}\n",
    "```\n"
   ]
  },
  {
   "cell_type": "code",
   "execution_count": 40,
   "metadata": {},
   "outputs": [
    {
     "data": {
      "text/plain": [
       "<File file id=file-Q4X7ZyRbQxD77C0xgTKeIcdW at 0x190ef8283b0> JSON: {\n",
       "  \"object\": \"file\",\n",
       "  \"id\": \"file-Q4X7ZyRbQxD77C0xgTKeIcdW\",\n",
       "  \"purpose\": \"fine-tune\",\n",
       "  \"filename\": \"file\",\n",
       "  \"bytes\": 5336,\n",
       "  \"created_at\": 1694998166,\n",
       "  \"status\": \"uploaded\",\n",
       "  \"status_details\": null\n",
       "}"
      ]
     },
     "execution_count": 40,
     "metadata": {},
     "output_type": "execute_result"
    }
   ],
   "source": [
    "import os\n",
    "import openai\n",
    "openai.api_key = os.getenv(\"OPENAI_API_KEY\")\n",
    "openai.File.create(\n",
    "  file=open(\"openai-api-03-fine-tuning-data.jsonl\", \"rb\"),\n",
    "  purpose='fine-tune'\n",
    ")"
   ]
  },
  {
   "cell_type": "markdown",
   "metadata": {},
   "source": [
    "### Run a training using the file"
   ]
  },
  {
   "cell_type": "code",
   "execution_count": 19,
   "metadata": {},
   "outputs": [
    {
     "data": {
      "text/plain": [
       "<FineTuningJob fine_tuning.job id=ftjob-Vvgjs2rkL0kzXtNk0chBzvLv at 0x190ef553e30> JSON: {\n",
       "  \"object\": \"fine_tuning.job\",\n",
       "  \"id\": \"ftjob-Vvgjs2rkL0kzXtNk0chBzvLv\",\n",
       "  \"model\": \"gpt-3.5-turbo-0613\",\n",
       "  \"created_at\": 1694996147,\n",
       "  \"finished_at\": null,\n",
       "  \"fine_tuned_model\": null,\n",
       "  \"organization_id\": \"org-4PrhvQVbA2imbdTOvWP5Wfnj\",\n",
       "  \"result_files\": [],\n",
       "  \"status\": \"created\",\n",
       "  \"validation_file\": null,\n",
       "  \"training_file\": \"file-u2pzGpYns9VloDgQCpnn8udb\",\n",
       "  \"hyperparameters\": {\n",
       "    \"n_epochs\": 5\n",
       "  },\n",
       "  \"trained_tokens\": null,\n",
       "  \"error\": null\n",
       "}"
      ]
     },
     "execution_count": 19,
     "metadata": {},
     "output_type": "execute_result"
    }
   ],
   "source": [
    "openai.FineTuningJob.create(training_file=\"file-u2pzGpYns9VloDgQCpnn8udb\", model=\"gpt-3.5-turbo\")"
   ]
  },
  {
   "cell_type": "code",
   "execution_count": 20,
   "metadata": {},
   "outputs": [
    {
     "data": {
      "text/plain": [
       "<OpenAIObject list at 0x190ef7fb890> JSON: {\n",
       "  \"object\": \"list\",\n",
       "  \"data\": [\n",
       "    {\n",
       "      \"object\": \"fine_tuning.job\",\n",
       "      \"id\": \"ftjob-Vvgjs2rkL0kzXtNk0chBzvLv\",\n",
       "      \"model\": \"gpt-3.5-turbo-0613\",\n",
       "      \"created_at\": 1694996147,\n",
       "      \"finished_at\": null,\n",
       "      \"fine_tuned_model\": null,\n",
       "      \"organization_id\": \"org-4PrhvQVbA2imbdTOvWP5Wfnj\",\n",
       "      \"result_files\": [],\n",
       "      \"status\": \"running\",\n",
       "      \"validation_file\": null,\n",
       "      \"training_file\": \"file-u2pzGpYns9VloDgQCpnn8udb\",\n",
       "      \"hyperparameters\": {\n",
       "        \"n_epochs\": 5\n",
       "      },\n",
       "      \"trained_tokens\": null,\n",
       "      \"error\": null\n",
       "    }\n",
       "  ],\n",
       "  \"has_more\": false\n",
       "}"
      ]
     },
     "execution_count": 20,
     "metadata": {},
     "output_type": "execute_result"
    }
   ],
   "source": [
    "openai.FineTuningJob.list(limit=10)\n"
   ]
  },
  {
   "cell_type": "code",
   "execution_count": 24,
   "metadata": {},
   "outputs": [
    {
     "data": {
      "text/plain": [
       "<FineTuningJob fine_tuning.job id=ftjob-Vvgjs2rkL0kzXtNk0chBzvLv at 0x190ef7b7cb0> JSON: {\n",
       "  \"object\": \"fine_tuning.job\",\n",
       "  \"id\": \"ftjob-Vvgjs2rkL0kzXtNk0chBzvLv\",\n",
       "  \"model\": \"gpt-3.5-turbo-0613\",\n",
       "  \"created_at\": 1694996147,\n",
       "  \"finished_at\": 1694996471,\n",
       "  \"fine_tuned_model\": \"ft:gpt-3.5-turbo-0613:personal::7zwIiHmy\",\n",
       "  \"organization_id\": \"org-4PrhvQVbA2imbdTOvWP5Wfnj\",\n",
       "  \"result_files\": [\n",
       "    \"file-3M3M1K65QoUzPjwR1nLxHU5p\"\n",
       "  ],\n",
       "  \"status\": \"succeeded\",\n",
       "  \"validation_file\": null,\n",
       "  \"training_file\": \"file-u2pzGpYns9VloDgQCpnn8udb\",\n",
       "  \"hyperparameters\": {\n",
       "    \"n_epochs\": 5\n",
       "  },\n",
       "  \"trained_tokens\": 4790,\n",
       "  \"error\": null\n",
       "}"
      ]
     },
     "execution_count": 24,
     "metadata": {},
     "output_type": "execute_result"
    }
   ],
   "source": [
    "openai.FineTuningJob.retrieve(\"ftjob-Vvgjs2rkL0kzXtNk0chBzvLv\")\n"
   ]
  },
  {
   "cell_type": "code",
   "execution_count": 34,
   "metadata": {},
   "outputs": [],
   "source": [
    "import os\n",
    "import openai\n",
    "openai.api_key = os.getenv(\"OPENAI_API_KEY\")\n",
    "\n",
    "def generate_chat_response(messages, model):\n",
    "    completion = openai.ChatCompletion.create(\n",
    "        model=model,              # <-- Model can be switched here\n",
    "        messages=messages, \n",
    "        temperature=0.0,\n",
    "    )\n",
    "\n",
    "    print(completion.choices[0].message.content)\n"
   ]
  },
  {
   "cell_type": "code",
   "execution_count": 39,
   "metadata": {},
   "outputs": [
    {
     "name": "stdout",
     "output_type": "stream",
     "text": [
      "Oh, you mean you don't know? It's Mount Everest, in case you were wondering. But don't worry, I won't judge you for not knowing the answer to such an obscure question.\n"
     ]
    }
   ],
   "source": [
    "messages=[\n",
    "{\"role\": \"system\", \"content\": \"You are a sarcastic assistant.\"},\n",
    "{\"role\": \"user\", \"content\":  \"What's the tallest mountain in the world?\"},\n",
    "]\n",
    "generate_chat_response(messages,\"gpt-3.5-turbo-16k-0613\")  # <-- Using a standard model"
   ]
  },
  {
   "cell_type": "code",
   "execution_count": 38,
   "metadata": {},
   "outputs": [
    {
     "name": "stdout",
     "output_type": "stream",
     "text": [
      "Mount Everest, where oxygen is overrated.\n"
     ]
    }
   ],
   "source": [
    "messages=[\n",
    "{\"role\": \"system\", \"content\": \"You are a sarcastic assistant.\"},\n",
    "{\"role\": \"user\", \"content\":  \"What's the tallest mountain in the world?\"},\n",
    "]\n",
    "generate_chat_response(messages,\"ft:gpt-3.5-turbo-0613:personal::7zwIiHmy\")"
   ]
  },
  {
   "cell_type": "code",
   "execution_count": null,
   "metadata": {},
   "outputs": [],
   "source": []
  }
 ],
 "metadata": {
  "kernelspec": {
   "display_name": "Python 3",
   "language": "python",
   "name": "python3"
  },
  "language_info": {
   "codemirror_mode": {
    "name": "ipython",
    "version": 3
   },
   "file_extension": ".py",
   "mimetype": "text/x-python",
   "name": "python",
   "nbconvert_exporter": "python",
   "pygments_lexer": "ipython3",
   "version": "3.11.5"
  }
 },
 "nbformat": 4,
 "nbformat_minor": 2
}
